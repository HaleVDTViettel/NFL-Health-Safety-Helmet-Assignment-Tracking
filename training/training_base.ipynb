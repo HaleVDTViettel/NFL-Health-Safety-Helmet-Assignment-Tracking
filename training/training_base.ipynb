{
 "cells": [
  {
   "cell_type": "markdown",
   "metadata": {},
   "source": [
    "# Imports and Setup"
   ]
  },
  {
   "cell_type": "code",
   "execution_count": 1,
   "metadata": {},
   "outputs": [
    {
     "name": "stdout",
     "output_type": "stream",
     "text": [
      "Setup complete. Using torch 1.13.1+cu116 (NVIDIA GeForce RTX 3090)\n"
     ]
    }
   ],
   "source": [
    "import torch\n",
    "print(f\"Setup complete. Using torch {torch.__version__} ({torch.cuda.get_device_properties(0).name if torch.cuda.is_available() else 'CPU'})\")"
   ]
  },
  {
   "cell_type": "code",
   "execution_count": 2,
   "metadata": {},
   "outputs": [
    {
     "name": "stderr",
     "output_type": "stream",
     "text": [
      "Failed to detect the name of this notebook, you can set it manually with the WANDB_NOTEBOOK_NAME environment variable to enable code saving.\n"
     ]
    },
    {
     "name": "stdout",
     "output_type": "stream",
     "text": [
      "0.17.3\n"
     ]
    },
    {
     "name": "stderr",
     "output_type": "stream",
     "text": [
      "\u001b[34m\u001b[1mwandb\u001b[0m: Currently logged in as: \u001b[33mhalntse171026\u001b[0m. Use \u001b[1m`wandb login --relogin`\u001b[0m to force relogin\n"
     ]
    },
    {
     "data": {
      "text/plain": [
       "True"
      ]
     },
     "execution_count": 2,
     "metadata": {},
     "output_type": "execute_result"
    }
   ],
   "source": [
    "import wandb\n",
    "print(wandb.__version__)\n",
    "wandb.login()"
   ]
  },
  {
   "cell_type": "code",
   "execution_count": 3,
   "metadata": {},
   "outputs": [],
   "source": [
    "# Necessary/extra dependencies. \n",
    "import os\n",
    "import gc\n",
    "import cv2\n",
    "import numpy as np\n",
    "import pandas as pd\n",
    "from tqdm import tqdm\n",
    "from shutil import copyfile\n",
    "import matplotlib.pyplot as plt\n",
    "from sklearn.model_selection import train_test_split"
   ]
  },
  {
   "cell_type": "markdown",
   "metadata": {},
   "source": [
    "# Hyperparameters"
   ]
  },
  {
   "cell_type": "code",
   "execution_count": 4,
   "metadata": {},
   "outputs": [
    {
     "name": "stdout",
     "output_type": "stream",
     "text": [
      "Number of extra images: 9947\n"
     ]
    }
   ],
   "source": [
    "TRAIN_PATH = '../data/images/'\n",
    "IMG_SIZE = 256\n",
    "BATCH_SIZE = 16\n",
    "EPOCHS = 10\n",
    "\n",
    "print(f'Number of extra images: {len(os.listdir(TRAIN_PATH))}') "
   ]
  },
  {
   "cell_type": "markdown",
   "metadata": {},
   "source": [
    "# Prepare Dataset"
   ]
  },
  {
   "cell_type": "code",
   "execution_count": 5,
   "metadata": {},
   "outputs": [
    {
     "name": "stdout",
     "output_type": "stream",
     "text": [
      "Number of ground truth bounding boxes:  193736\n",
      "Unique labels:  {'Helmet': 0, 'Helmet-Blurred': 1, 'Helmet-Difficult': 2, 'Helmet-Sideline': 3, 'Helmet-Partial': 4}\n"
     ]
    },
    {
     "data": {
      "text/html": [
       "<div>\n",
       "<style scoped>\n",
       "    .dataframe tbody tr th:only-of-type {\n",
       "        vertical-align: middle;\n",
       "    }\n",
       "\n",
       "    .dataframe tbody tr th {\n",
       "        vertical-align: top;\n",
       "    }\n",
       "\n",
       "    .dataframe thead th {\n",
       "        text-align: right;\n",
       "    }\n",
       "</style>\n",
       "<table border=\"1\" class=\"dataframe\">\n",
       "  <thead>\n",
       "    <tr style=\"text-align: right;\">\n",
       "      <th></th>\n",
       "      <th>image</th>\n",
       "      <th>label</th>\n",
       "      <th>left</th>\n",
       "      <th>width</th>\n",
       "      <th>top</th>\n",
       "      <th>height</th>\n",
       "    </tr>\n",
       "  </thead>\n",
       "  <tbody>\n",
       "    <tr>\n",
       "      <th>0</th>\n",
       "      <td>57503_000116_Endzone_frame443.jpg</td>\n",
       "      <td>Helmet</td>\n",
       "      <td>1099</td>\n",
       "      <td>16</td>\n",
       "      <td>456</td>\n",
       "      <td>15</td>\n",
       "    </tr>\n",
       "    <tr>\n",
       "      <th>1</th>\n",
       "      <td>57503_000116_Endzone_frame443.jpg</td>\n",
       "      <td>Helmet</td>\n",
       "      <td>1117</td>\n",
       "      <td>15</td>\n",
       "      <td>478</td>\n",
       "      <td>16</td>\n",
       "    </tr>\n",
       "    <tr>\n",
       "      <th>2</th>\n",
       "      <td>57503_000116_Endzone_frame443.jpg</td>\n",
       "      <td>Helmet</td>\n",
       "      <td>828</td>\n",
       "      <td>16</td>\n",
       "      <td>511</td>\n",
       "      <td>15</td>\n",
       "    </tr>\n",
       "    <tr>\n",
       "      <th>3</th>\n",
       "      <td>57503_000116_Endzone_frame443.jpg</td>\n",
       "      <td>Helmet</td>\n",
       "      <td>746</td>\n",
       "      <td>16</td>\n",
       "      <td>519</td>\n",
       "      <td>16</td>\n",
       "    </tr>\n",
       "    <tr>\n",
       "      <th>4</th>\n",
       "      <td>57503_000116_Endzone_frame443.jpg</td>\n",
       "      <td>Helmet</td>\n",
       "      <td>678</td>\n",
       "      <td>17</td>\n",
       "      <td>554</td>\n",
       "      <td>17</td>\n",
       "    </tr>\n",
       "  </tbody>\n",
       "</table>\n",
       "</div>"
      ],
      "text/plain": [
       "                               image   label  left  width  top  height\n",
       "0  57503_000116_Endzone_frame443.jpg  Helmet  1099     16  456      15\n",
       "1  57503_000116_Endzone_frame443.jpg  Helmet  1117     15  478      16\n",
       "2  57503_000116_Endzone_frame443.jpg  Helmet   828     16  511      15\n",
       "3  57503_000116_Endzone_frame443.jpg  Helmet   746     16  519      16\n",
       "4  57503_000116_Endzone_frame443.jpg  Helmet   678     17  554      17"
      ]
     },
     "execution_count": 5,
     "metadata": {},
     "output_type": "execute_result"
    }
   ],
   "source": [
    "# Load image level csv file\n",
    "extra_df = pd.read_csv('../data/image_labels.csv')\n",
    "print('Number of ground truth bounding boxes: ', len(extra_df))\n",
    "\n",
    "# Number of unique labels\n",
    "label_to_id = {label: i for i, label in enumerate(extra_df.label.unique())}\n",
    "print('Unique labels: ', label_to_id)\n",
    "\n",
    "# Group together bbox coordinates belonging to the same image. \n",
    "image_bbox_label = {} # key is the name of the image, value is a dataframe with label and bbox coordinates. \n",
    "for image, df in extra_df.groupby('image'): \n",
    "    image_bbox_label[image] = df.reset_index(drop=True)\n",
    "\n",
    "# Visualize\n",
    "extra_df.head(5)"
   ]
  },
  {
   "cell_type": "code",
   "execution_count": 6,
   "metadata": {},
   "outputs": [
    {
     "name": "stdout",
     "output_type": "stream",
     "text": [
      "Size of dataset: 9947,       training images: 7957,       validation images: 1990\n"
     ]
    }
   ],
   "source": [
    "# Create train and validation split.\n",
    "train_names, valid_names = train_test_split(list(image_bbox_label), test_size=0.2, random_state=42)\n",
    "print(f'Size of dataset: {len(image_bbox_label)},\\\n",
    "       training images: {len(train_names)},\\\n",
    "       validation images: {len(valid_names)}')"
   ]
  },
  {
   "cell_type": "markdown",
   "metadata": {},
   "source": [
    "# Prepare Required Folder Structure"
   ]
  },
  {
   "cell_type": "code",
   "execution_count": 7,
   "metadata": {},
   "outputs": [
    {
     "name": "stderr",
     "output_type": "stream",
     "text": [
      "  0%|          | 0/7957 [00:00<?, ?it/s]"
     ]
    },
    {
     "name": "stderr",
     "output_type": "stream",
     "text": [
      "100%|██████████| 7957/7957 [00:00<00:00, 9872.13it/s] \n",
      "100%|██████████| 1990/1990 [00:00<00:00, 10095.25it/s]\n"
     ]
    }
   ],
   "source": [
    "os.makedirs('tmp/nfl_extra/images/train', exist_ok=True)\n",
    "os.makedirs('tmp/nfl_extra/images/valid', exist_ok=True)\n",
    "\n",
    "os.makedirs('tmp/nfl_extra/labels/train', exist_ok=True)\n",
    "os.makedirs('tmp/nfl_extra/labels/valid', exist_ok=True)\n",
    "\n",
    "# Move the images to relevant split folder.\n",
    "for img_name in tqdm(train_names):\n",
    "    copyfile(f'{TRAIN_PATH}/{img_name}', f'tmp/nfl_extra/images/train/{img_name}')\n",
    "\n",
    "for img_name in tqdm(valid_names):\n",
    "    copyfile(f'{TRAIN_PATH}/{img_name}', f'tmp/nfl_extra/images/valid/{img_name}')"
   ]
  },
  {
   "cell_type": "code",
   "execution_count": 8,
   "metadata": {},
   "outputs": [
    {
     "name": "stdout",
     "output_type": "stream",
     "text": [
      "{names: [Helmet, Helmet-Blurred, Helmet-Difficult, Helmet-Sideline, Helmet-Partial],\n",
      "  nc: 5, train: tmp/nfl_extra/images/train, val: tmp/nfl_extra/images/valid}\n"
     ]
    }
   ],
   "source": [
    "# Create .yaml file \n",
    "import yaml\n",
    "\n",
    "data_yaml = dict(\n",
    "    train = 'tmp/nfl_extra/images/train',\n",
    "    val = 'tmp/nfl_extra/images/valid',\n",
    "    nc = 5,\n",
    "    names = list(extra_df.label.unique())\n",
    ")\n",
    "\n",
    "os.makedirs('tmp/yolov5/data', exist_ok=True)\n",
    "\n",
    "# Note that I am creating the file in the yolov5/data/ directory.\n",
    "with open('tmp/yolov5/data/data.yaml', 'w') as outfile:\n",
    "    yaml.dump(data_yaml, outfile, default_flow_style=True)\n",
    "    \n",
    "%cat tmp/yolov5/data/data.yaml"
   ]
  },
  {
   "cell_type": "code",
   "execution_count": 9,
   "metadata": {},
   "outputs": [
    {
     "name": "stderr",
     "output_type": "stream",
     "text": [
      "100%|██████████| 9947/9947 [00:34<00:00, 292.28it/s]\n"
     ]
    }
   ],
   "source": [
    "def get_yolo_format_bbox(img_w, img_h, box):\n",
    "    \"\"\"\n",
    "    Convert the bounding boxes in YOLO format.\n",
    "    \n",
    "    Input:\n",
    "    img_w - Original/Scaled image width\n",
    "    img_h - Original/Scaled image height\n",
    "    box - Bounding box coordinates in the format, \"left, width, top, height\"\n",
    "    \n",
    "    Output:\n",
    "    Return YOLO formatted bounding box coordinates, \"x_center y_center width height\".\n",
    "    \"\"\"\n",
    "    w = box.width # width \n",
    "    h = box.height # height\n",
    "    xc = box.left + int(np.round(w/2)) # xmin + width/2\n",
    "    yc = box.top + int(np.round(h/2)) # ymin + height/2\n",
    "\n",
    "    return [xc/img_w, yc/img_h, w/img_w, h/img_h] # x_center y_center width height\n",
    "    \n",
    "# Iterate over each image and write the labels and bbox coordinates to a .txt file. \n",
    "for img_name, df in tqdm(image_bbox_label.items()):\n",
    "    # open image file to get the height and width \n",
    "    img = cv2.imread(TRAIN_PATH+'/'+img_name)\n",
    "    height, width, _ = img.shape \n",
    "    \n",
    "    # iterate over bounding box df\n",
    "    bboxes = []\n",
    "    for i in range(len(df)):\n",
    "        # get a row\n",
    "        box = df.loc[i]\n",
    "        # get bbox in YOLO format\n",
    "        box = get_yolo_format_bbox(width, height, box)\n",
    "        bboxes.append(box)\n",
    "    \n",
    "    if img_name in train_names:\n",
    "        img_name = img_name[:-4]\n",
    "        file_name = f'tmp/nfl_extra/labels/train/{img_name}.txt'\n",
    "    elif img_name in valid_names:\n",
    "        img_name = img_name[:-4]\n",
    "        file_name = f'tmp/nfl_extra/labels/valid/{img_name}.txt'\n",
    "        \n",
    "    with open(file_name, 'w') as f:\n",
    "        for i, bbox in enumerate(bboxes):\n",
    "            label = label_to_id[df.loc[i].label]\n",
    "            bbox = [label]+bbox\n",
    "            bbox = [str(i) for i in bbox]\n",
    "            bbox = ' '.join(bbox)\n",
    "            f.write(bbox)\n",
    "            f.write('\\n')"
   ]
  },
  {
   "cell_type": "code",
   "execution_count": 10,
   "metadata": {},
   "outputs": [],
   "source": [
    "# Extra utility function that can be used for inference. \n",
    "def convert_yolo_bbox(img_w, img_h, box):\n",
    "    \"\"\"\n",
    "    Input:\n",
    "    img_w - Original/Scaled image width\n",
    "    img_h - Original/Scaled image height\n",
    "    box - YOLO formatted bbox coordinates in the format, \"x_center, y_center, width, height\"\n",
    "    \n",
    "    Output:\n",
    "    Return bounding box coordinates in the format, \"left, width, top, height\"\n",
    "    \"\"\"\n",
    "    xc, yc = int(np.round(box[0]*img_w)), int(np.round(box[1]*img_h))\n",
    "    w, h = int(np.round(box[2]*img_w)), int(np.round(box[3]*img_h))\n",
    "\n",
    "    left = xc - int(np.round(w/2))\n",
    "    top = yc - int(np.round(h/2))\n",
    "\n",
    "    return [left, top, w, h]"
   ]
  }
 ],
 "metadata": {
  "kernelspec": {
   "display_name": "base",
   "language": "python",
   "name": "python3"
  },
  "language_info": {
   "codemirror_mode": {
    "name": "ipython",
    "version": 3
   },
   "file_extension": ".py",
   "mimetype": "text/x-python",
   "name": "python",
   "nbconvert_exporter": "python",
   "pygments_lexer": "ipython3",
   "version": "3.10.14"
  }
 },
 "nbformat": 4,
 "nbformat_minor": 2
}
